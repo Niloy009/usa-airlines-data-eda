{
 "cells": [
  {
   "cell_type": "markdown",
   "id": "ccc21e35",
   "metadata": {},
   "source": [
    "# airlines Exploratory Data analysis"
   ]
  },
  {
   "cell_type": "code",
   "execution_count": 2,
   "id": "4e0cd6ca",
   "metadata": {},
   "outputs": [],
   "source": [
    "import pandas as pd\n",
    "import numpy as np\n",
    "import matplotlib.pyplot as plt\n",
    "import seaborn as sns\n",
    "%matplotlib inline"
   ]
  },
  {
   "cell_type": "code",
   "execution_count": 3,
   "id": "5958d7dc",
   "metadata": {},
   "outputs": [
    {
     "data": {
      "text/html": [
       "<div>\n",
       "<style scoped>\n",
       "    .dataframe tbody tr th:only-of-type {\n",
       "        vertical-align: middle;\n",
       "    }\n",
       "\n",
       "    .dataframe tbody tr th {\n",
       "        vertical-align: top;\n",
       "    }\n",
       "\n",
       "    .dataframe thead th {\n",
       "        text-align: right;\n",
       "    }\n",
       "</style>\n",
       "<table border=\"1\" class=\"dataframe\">\n",
       "  <thead>\n",
       "    <tr style=\"text-align: right;\">\n",
       "      <th></th>\n",
       "      <th>Flight</th>\n",
       "      <th>Time</th>\n",
       "      <th>Length</th>\n",
       "      <th>Airline</th>\n",
       "      <th>AirportFrom</th>\n",
       "      <th>AirportTo</th>\n",
       "      <th>DayOfWeek</th>\n",
       "      <th>Class</th>\n",
       "    </tr>\n",
       "  </thead>\n",
       "  <tbody>\n",
       "    <tr>\n",
       "      <th>0</th>\n",
       "      <td>2313.0</td>\n",
       "      <td>1296.0</td>\n",
       "      <td>141.0</td>\n",
       "      <td>DL</td>\n",
       "      <td>ATL</td>\n",
       "      <td>HOU</td>\n",
       "      <td>1</td>\n",
       "      <td>0</td>\n",
       "    </tr>\n",
       "    <tr>\n",
       "      <th>1</th>\n",
       "      <td>6948.0</td>\n",
       "      <td>360.0</td>\n",
       "      <td>146.0</td>\n",
       "      <td>OO</td>\n",
       "      <td>COS</td>\n",
       "      <td>ORD</td>\n",
       "      <td>4</td>\n",
       "      <td>0</td>\n",
       "    </tr>\n",
       "    <tr>\n",
       "      <th>2</th>\n",
       "      <td>1247.0</td>\n",
       "      <td>1170.0</td>\n",
       "      <td>143.0</td>\n",
       "      <td>B6</td>\n",
       "      <td>BOS</td>\n",
       "      <td>CLT</td>\n",
       "      <td>3</td>\n",
       "      <td>0</td>\n",
       "    </tr>\n",
       "    <tr>\n",
       "      <th>3</th>\n",
       "      <td>31.0</td>\n",
       "      <td>1410.0</td>\n",
       "      <td>344.0</td>\n",
       "      <td>US</td>\n",
       "      <td>OGG</td>\n",
       "      <td>PHX</td>\n",
       "      <td>6</td>\n",
       "      <td>0</td>\n",
       "    </tr>\n",
       "    <tr>\n",
       "      <th>4</th>\n",
       "      <td>563.0</td>\n",
       "      <td>692.0</td>\n",
       "      <td>98.0</td>\n",
       "      <td>FL</td>\n",
       "      <td>BMI</td>\n",
       "      <td>ATL</td>\n",
       "      <td>4</td>\n",
       "      <td>0</td>\n",
       "    </tr>\n",
       "  </tbody>\n",
       "</table>\n",
       "</div>"
      ],
      "text/plain": [
       "   Flight    Time  Length Airline AirportFrom AirportTo  DayOfWeek  Class\n",
       "0  2313.0  1296.0   141.0      DL         ATL       HOU          1      0\n",
       "1  6948.0   360.0   146.0      OO         COS       ORD          4      0\n",
       "2  1247.0  1170.0   143.0      B6         BOS       CLT          3      0\n",
       "3    31.0  1410.0   344.0      US         OGG       PHX          6      0\n",
       "4   563.0   692.0    98.0      FL         BMI       ATL          4      0"
      ]
     },
     "execution_count": 3,
     "metadata": {},
     "output_type": "execute_result"
    }
   ],
   "source": [
    "#Import data\n",
    "\n",
    "df = pd.read_csv('airlines_delay.csv')\n",
    "df.head()"
   ]
  },
  {
   "cell_type": "code",
   "execution_count": 4,
   "id": "070a414a",
   "metadata": {},
   "outputs": [
    {
     "data": {
      "text/plain": [
       "Index(['Flight', 'Time', 'Length', 'Airline', 'AirportFrom', 'AirportTo',\n",
       "       'DayOfWeek', 'Class'],\n",
       "      dtype='object')"
      ]
     },
     "execution_count": 4,
     "metadata": {},
     "output_type": "execute_result"
    }
   ],
   "source": [
    "#Shows all the columns\n",
    "df.columns"
   ]
  },
  {
   "cell_type": "code",
   "execution_count": 5,
   "id": "f5bccb6e",
   "metadata": {},
   "outputs": [
    {
     "name": "stdout",
     "output_type": "stream",
     "text": [
      "<class 'pandas.core.frame.DataFrame'>\n",
      "RangeIndex: 539382 entries, 0 to 539381\n",
      "Data columns (total 8 columns):\n",
      " #   Column       Non-Null Count   Dtype  \n",
      "---  ------       --------------   -----  \n",
      " 0   Flight       539382 non-null  float64\n",
      " 1   Time         539382 non-null  float64\n",
      " 2   Length       539382 non-null  float64\n",
      " 3   Airline      539382 non-null  object \n",
      " 4   AirportFrom  539382 non-null  object \n",
      " 5   AirportTo    539382 non-null  object \n",
      " 6   DayOfWeek    539382 non-null  int64  \n",
      " 7   Class        539382 non-null  int64  \n",
      "dtypes: float64(3), int64(2), object(3)\n",
      "memory usage: 32.9+ MB\n"
     ]
    }
   ],
   "source": [
    "#For detailed information\n",
    "df.info()"
   ]
  },
  {
   "cell_type": "code",
   "execution_count": 20,
   "id": "a42b95de",
   "metadata": {},
   "outputs": [
    {
     "data": {
      "text/plain": [
       "Flight         float64\n",
       "Time           float64\n",
       "Length         float64\n",
       "Airline         object\n",
       "AirportFrom     object\n",
       "AirportTo       object\n",
       "DayOfWeek        int64\n",
       "Class            int64\n",
       "dtype: object"
      ]
     },
     "execution_count": 20,
     "metadata": {},
     "output_type": "execute_result"
    }
   ],
   "source": [
    "# To findout data types\n",
    "df.dtypes"
   ]
  },
  {
   "cell_type": "code",
   "execution_count": 6,
   "id": "f97f4492",
   "metadata": {},
   "outputs": [
    {
     "data": {
      "text/plain": [
       "(539382, 8)"
      ]
     },
     "execution_count": 6,
     "metadata": {},
     "output_type": "execute_result"
    }
   ],
   "source": [
    "# To understand Shape\n",
    "df.shape"
   ]
  },
  {
   "cell_type": "code",
   "execution_count": 7,
   "id": "115d1b4c",
   "metadata": {},
   "outputs": [
    {
     "data": {
      "text/html": [
       "<div>\n",
       "<style scoped>\n",
       "    .dataframe tbody tr th:only-of-type {\n",
       "        vertical-align: middle;\n",
       "    }\n",
       "\n",
       "    .dataframe tbody tr th {\n",
       "        vertical-align: top;\n",
       "    }\n",
       "\n",
       "    .dataframe thead th {\n",
       "        text-align: right;\n",
       "    }\n",
       "</style>\n",
       "<table border=\"1\" class=\"dataframe\">\n",
       "  <thead>\n",
       "    <tr style=\"text-align: right;\">\n",
       "      <th></th>\n",
       "      <th>Flight</th>\n",
       "      <th>Time</th>\n",
       "      <th>Length</th>\n",
       "      <th>DayOfWeek</th>\n",
       "      <th>Class</th>\n",
       "    </tr>\n",
       "  </thead>\n",
       "  <tbody>\n",
       "    <tr>\n",
       "      <th>count</th>\n",
       "      <td>539382.000000</td>\n",
       "      <td>539382.000000</td>\n",
       "      <td>539382.000000</td>\n",
       "      <td>539382.000000</td>\n",
       "      <td>539382.000000</td>\n",
       "    </tr>\n",
       "    <tr>\n",
       "      <th>mean</th>\n",
       "      <td>2427.927988</td>\n",
       "      <td>802.728161</td>\n",
       "      <td>132.202104</td>\n",
       "      <td>3.929666</td>\n",
       "      <td>0.445443</td>\n",
       "    </tr>\n",
       "    <tr>\n",
       "      <th>std</th>\n",
       "      <td>2067.431700</td>\n",
       "      <td>278.045546</td>\n",
       "      <td>70.117045</td>\n",
       "      <td>1.914666</td>\n",
       "      <td>0.497015</td>\n",
       "    </tr>\n",
       "    <tr>\n",
       "      <th>min</th>\n",
       "      <td>1.000000</td>\n",
       "      <td>10.000000</td>\n",
       "      <td>0.000000</td>\n",
       "      <td>1.000000</td>\n",
       "      <td>0.000000</td>\n",
       "    </tr>\n",
       "    <tr>\n",
       "      <th>25%</th>\n",
       "      <td>712.000000</td>\n",
       "      <td>565.000000</td>\n",
       "      <td>81.000000</td>\n",
       "      <td>2.000000</td>\n",
       "      <td>0.000000</td>\n",
       "    </tr>\n",
       "    <tr>\n",
       "      <th>50%</th>\n",
       "      <td>1809.000000</td>\n",
       "      <td>795.000000</td>\n",
       "      <td>115.000000</td>\n",
       "      <td>4.000000</td>\n",
       "      <td>0.000000</td>\n",
       "    </tr>\n",
       "    <tr>\n",
       "      <th>75%</th>\n",
       "      <td>3745.000000</td>\n",
       "      <td>1035.000000</td>\n",
       "      <td>162.000000</td>\n",
       "      <td>5.000000</td>\n",
       "      <td>1.000000</td>\n",
       "    </tr>\n",
       "    <tr>\n",
       "      <th>max</th>\n",
       "      <td>7814.000000</td>\n",
       "      <td>1439.000000</td>\n",
       "      <td>655.000000</td>\n",
       "      <td>7.000000</td>\n",
       "      <td>1.000000</td>\n",
       "    </tr>\n",
       "  </tbody>\n",
       "</table>\n",
       "</div>"
      ],
      "text/plain": [
       "              Flight           Time         Length      DayOfWeek  \\\n",
       "count  539382.000000  539382.000000  539382.000000  539382.000000   \n",
       "mean     2427.927988     802.728161     132.202104       3.929666   \n",
       "std      2067.431700     278.045546      70.117045       1.914666   \n",
       "min         1.000000      10.000000       0.000000       1.000000   \n",
       "25%       712.000000     565.000000      81.000000       2.000000   \n",
       "50%      1809.000000     795.000000     115.000000       4.000000   \n",
       "75%      3745.000000    1035.000000     162.000000       5.000000   \n",
       "max      7814.000000    1439.000000     655.000000       7.000000   \n",
       "\n",
       "               Class  \n",
       "count  539382.000000  \n",
       "mean        0.445443  \n",
       "std         0.497015  \n",
       "min         0.000000  \n",
       "25%         0.000000  \n",
       "50%         0.000000  \n",
       "75%         1.000000  \n",
       "max         1.000000  "
      ]
     },
     "execution_count": 7,
     "metadata": {},
     "output_type": "execute_result"
    }
   ],
   "source": [
    "#Helps to find all specific information\n",
    "df.describe()"
   ]
  },
  {
   "cell_type": "markdown",
   "id": "22852bf6",
   "metadata": {},
   "source": [
    "# Basic Data analysis seps"
   ]
  },
  {
   "cell_type": "code",
   "execution_count": 8,
   "id": "5512020f",
   "metadata": {},
   "outputs": [
    {
     "data": {
      "text/plain": [
       "Flight         0\n",
       "Time           0\n",
       "Length         0\n",
       "Airline        0\n",
       "AirportFrom    0\n",
       "AirportTo      0\n",
       "DayOfWeek      0\n",
       "Class          0\n",
       "dtype: int64"
      ]
     },
     "execution_count": 8,
     "metadata": {},
     "output_type": "execute_result"
    }
   ],
   "source": [
    "# finding out the null values\n",
    "df.isnull().sum()"
   ]
  },
  {
   "cell_type": "code",
   "execution_count": 9,
   "id": "db061a1c",
   "metadata": {},
   "outputs": [
    {
     "data": {
      "text/plain": [
       "[]"
      ]
     },
     "execution_count": 9,
     "metadata": {},
     "output_type": "execute_result"
    }
   ],
   "source": [
    "# finding out the null values in specific coloumns if have\n",
    "# As there are no null values therefore the reply is blank\n",
    "[features for features in df.columns if df [features].isnull().sum()>0]"
   ]
  },
  {
   "cell_type": "code",
   "execution_count": 19,
   "id": "a963d75a",
   "metadata": {},
   "outputs": [
    {
     "data": {
      "text/plain": [
       "<AxesSubplot:>"
      ]
     },
     "execution_count": 19,
     "metadata": {},
     "output_type": "execute_result"
    },
    {
     "data": {
      "image/png": "[encoded data removed]",
      "text/plain": [
       "<Figure size 720x360 with 2 Axes>"
      ]
     },
     "metadata": {
      "needs_background": "light"
     },
     "output_type": "display_data"
    }
   ],
   "source": [
    "# Heatmap generation / showing correlation\n",
    "plt.figure(figsize=(10,5))\n",
    "sns.heatmap(df.corr(),annot=True)"
   ]
  },
  {
   "cell_type": "code",
   "execution_count": 21,
   "id": "8e25fde5",
   "metadata": {},
   "outputs": [],
   "source": [
    "# when two data files are available, we can merge both file together by this code\n",
    "# pd.merge(df,df1)"
   ]
  },
  {
   "cell_type": "code",
   "execution_count": 28,
   "id": "802ed671",
   "metadata": {},
   "outputs": [
    {
     "data": {
      "text/plain": [
       "WN    94097\n",
       "DL    60940\n",
       "OO    50254\n",
       "AA    45656\n",
       "MQ    36604\n",
       "US    34500\n",
       "XE    31126\n",
       "EV    27983\n",
       "UA    27619\n",
       "CO    21118\n",
       "FL    20827\n",
       "9E    20686\n",
       "B6    18112\n",
       "YV    13725\n",
       "OH    12630\n",
       "AS    11471\n",
       "F9     6456\n",
       "HA     5578\n",
       "Name: Airline, dtype: int64"
      ]
     },
     "execution_count": 28,
     "metadata": {},
     "output_type": "execute_result"
    }
   ],
   "source": [
    "# detail of a particular column value\n",
    "# airline_names = df.Airline.value_counts()\n",
    "df.Airline.value_counts()"
   ]
  },
  {
   "cell_type": "code",
   "execution_count": 25,
   "id": "42bb422c",
   "metadata": {},
   "outputs": [
    {
     "data": {
      "text/plain": [
       "Index(['WN', 'DL', 'OO', 'AA', 'MQ', 'US', 'XE', 'EV', 'UA', 'CO', 'FL', '9E',\n",
       "       'B6', 'YV', 'OH', 'AS', 'F9', 'HA'],\n",
       "      dtype='object')"
      ]
     },
     "execution_count": 25,
     "metadata": {},
     "output_type": "execute_result"
    }
   ],
   "source": [
    "# only names of a particular column value\n",
    "df.Airline.value_counts().index"
   ]
  },
  {
   "cell_type": "code",
   "execution_count": 29,
   "id": "b1605b22",
   "metadata": {},
   "outputs": [
    {
     "data": {
      "text/plain": [
       "array([94097, 60940, 50254, 45656, 36604, 34500, 31126, 27983, 27619,\n",
       "       21118, 20827, 20686, 18112, 13725, 12630, 11471,  6456,  5578],\n",
       "      dtype=int64)"
      ]
     },
     "execution_count": 29,
     "metadata": {},
     "output_type": "execute_result"
    }
   ],
   "source": [
    "# finding out values to create a pie chart\n",
    "df.Airline.value_counts().values"
   ]
  },
  {
   "cell_type": "code",
   "execution_count": 30,
   "id": "b1ed336a",
   "metadata": {},
   "outputs": [],
   "source": [
    "# assigned values and index to some varibales\n",
    "airline_names = df.Airline.value_counts().index\n",
    "airline_values = df.Airline.value_counts().values"
   ]
  },
  {
   "cell_type": "code",
   "execution_count": 34,
   "id": "63737a28",
   "metadata": {},
   "outputs": [
    {
     "data": {
      "text/plain": [
       "([<matplotlib.patches.Wedge at 0x1aa47b32e00>,\n",
       "  <matplotlib.patches.Wedge at 0x1aa47b33850>,\n",
       "  <matplotlib.patches.Wedge at 0x1aa47b32350>,\n",
       "  <matplotlib.patches.Wedge at 0x1aa47b32770>,\n",
       "  <matplotlib.patches.Wedge at 0x1aa47b31f60>,\n",
       "  <matplotlib.patches.Wedge at 0x1aa47bc2f80>,\n",
       "  <matplotlib.patches.Wedge at 0x1aa47bc0460>,\n",
       "  <matplotlib.patches.Wedge at 0x1aa47bc3670>,\n",
       "  <matplotlib.patches.Wedge at 0x1aa47bc3130>,\n",
       "  <matplotlib.patches.Wedge at 0x1aa47bc05e0>,\n",
       "  <matplotlib.patches.Wedge at 0x1aa47b33580>,\n",
       "  <matplotlib.patches.Wedge at 0x1aa47bc2320>,\n",
       "  <matplotlib.patches.Wedge at 0x1aa47bc3c40>,\n",
       "  <matplotlib.patches.Wedge at 0x1aa47bc1480>,\n",
       "  <matplotlib.patches.Wedge at 0x1aa48698490>,\n",
       "  <matplotlib.patches.Wedge at 0x1aa48698bb0>,\n",
       "  <matplotlib.patches.Wedge at 0x1aa486992d0>,\n",
       "  <matplotlib.patches.Wedge at 0x1aa486999f0>],\n",
       " [Text(0.9388898192726476, 0.5731369009810616, 'WN'),\n",
       "  Text(0.131391565197092, 1.0921246524985408, 'DL'),\n",
       "  Text(-0.5541008447788954, 0.9502485221326653, 'OO'),\n",
       "  Text(-0.9735184289636045, 0.5121150929900772, 'AA'),\n",
       "  Text(-1.0999854198926413, 0.005663569864462235, 'MQ'),\n",
       "  Text(-1.0092745709543807, -0.43745267221135026, 'US'),\n",
       "  Text(-0.7732716159139286, -0.7823368890841477, 'XE'),\n",
       "  Text(-0.4638452182176321, -0.9974204798061034, 'EV'),\n",
       "  Text(-0.12233541753129332, -1.093176127445822, 'UA'),\n",
       "  Text(0.18872440377443914, -1.0836895770560786, 'CO'),\n",
       "  Text(0.4452461034577734, -1.0058607793107703, 'FL'),\n",
       "  Text(0.673138172224271, -0.8699913798967022, '9E'),\n",
       "  Text(0.8509526226051213, -0.6970506682311312, 'B6'),\n",
       "  Text(0.9648807087846336, -0.5282094450265569, 'YV'),\n",
       "  Text(1.0342988168628087, -0.37446756526593133, 'OH'),\n",
       "  Text(1.0765183621790233, -0.22607126286061535, 'AS'),\n",
       "  Text(1.094217636867894, -0.11263997144549436, 'F9'),\n",
       "  Text(1.099419521291157, -0.03573116572298535, 'HA')],\n",
       " [Text(0.5121217196032622, 0.31262012780785176, '17.45%'),\n",
       "  Text(0.07166812647114108, 0.595704355908295, '11.30%'),\n",
       "  Text(-0.30223682442485206, 0.5183173757087265, '9.32%'),\n",
       "  Text(-0.5310100521619661, 0.27933550526731477, '8.46%'),\n",
       "  Text(-0.599992047214168, 0.0030892199260703092, '6.79%'),\n",
       "  Text(-0.550513402338753, -0.2386105484789183, '6.40%'),\n",
       "  Text(-0.42178451777123377, -0.42672921222771687, '5.77%'),\n",
       "  Text(-0.2530064826641629, -0.5440475344396927, '5.19%'),\n",
       "  Text(-0.06672840956252361, -0.596277887697721, '5.12%'),\n",
       "  Text(0.10294058387696679, -0.591103405666952, '3.92%'),\n",
       "  Text(0.24286151097696726, -0.548651334169511, '3.86%'),\n",
       "  Text(0.36716627575869326, -0.4745407526709284, '3.84%'),\n",
       "  Text(0.4641559759664297, -0.38020945539879875, '3.36%'),\n",
       "  Text(0.526298568427982, -0.2881142427417583, '2.54%'),\n",
       "  Text(0.5641629910160774, -0.20425503559959887, '2.34%'),\n",
       "  Text(0.5871918339158307, -0.12331159792397199, '2.13%'),\n",
       "  Text(0.596845983746124, -0.06143998442481509, '1.20%'),\n",
       "  Text(0.5996833752497219, -0.019489726757992005, '1.03%')])"
      ]
     },
     "execution_count": 34,
     "metadata": {},
     "output_type": "execute_result"
    },
    {
     "data": {
      "image/png": "[encoded data removed]",
      "text/plain": [
       "<Figure size 432x288 with 1 Axes>"
      ]
     },
     "metadata": {},
     "output_type": "display_data"
    }
   ],
   "source": [
    "#for top 5 airlines in pie chart\n",
    "#plt.pie(airline_values[:5], labels = airline_names[:5]\n",
    "# \"autopct = '%1.2%%' \" to check the percentage values in the chart diagram\n",
    "# plotting a pie chart in total\n",
    "plt.pie(airline_values, labels = airline_names, autopct = '%1.2f%%')"
   ]
  },
  {
   "cell_type": "markdown",
   "id": "5bbf1ce4",
   "metadata": {},
   "source": [
    "Observation: The most used airlines by the customers are, first WN and then DL and OO respectively."
   ]
  },
  {
   "cell_type": "code",
   "execution_count": 38,
   "id": "3e5bcb30",
   "metadata": {},
   "outputs": [
    {
     "data": {
      "text/plain": [
       "Index(['Flight', 'Time', 'Length', 'Airline', 'AirportFrom', 'AirportTo',\n",
       "       'DayOfWeek', 'Class'],\n",
       "      dtype='object')"
      ]
     },
     "execution_count": 38,
     "metadata": {},
     "output_type": "execute_result"
    }
   ],
   "source": [
    "# Check the columns once again\n",
    "df.columns"
   ]
  },
  {
   "cell_type": "code",
   "execution_count": 44,
   "id": "ab95e580",
   "metadata": {},
   "outputs": [
    {
     "data": {
      "text/plain": [
       "DayOfWeek  Class  AirportFrom  AirportTo\n",
       "1          0      ABE          ATL          3\n",
       "                               CLT          4\n",
       "                               DTW          6\n",
       "                               FLL          4\n",
       "                               MCO          1\n",
       "                                           ..\n",
       "7          1      XNA          MSP          1\n",
       "                               ORD          5\n",
       "                  YUM          IPL          3\n",
       "                               LAX          5\n",
       "                               PHX          7\n",
       "Length: 54896, dtype: int64"
      ]
     },
     "execution_count": 44,
     "metadata": {},
     "output_type": "execute_result"
    }
   ],
   "source": [
    "# Creating another dataset with this four coliumn only\n",
    "df.groupby(['DayOfWeek', 'Class', 'AirportFrom', 'AirportTo']).size()"
   ]
  },
  {
   "cell_type": "code",
   "execution_count": null,
   "id": "87c46ac7",
   "metadata": {},
   "outputs": [],
   "source": []
  }
 ],
 "metadata": {
  "kernelspec": {
   "display_name": "Python 3",
   "language": "python",
   "name": "python3"
  },
  "language_info": {
   "codemirror_mode": {
    "name": "ipython",
    "version": 3
   },
   "file_extension": ".py",
   "mimetype": "text/x-python",
   "name": "python",
   "nbconvert_exporter": "python",
   "pygments_lexer": "ipython3",
   "version": "3.8.8"
  }
 },
 "nbformat": 4,
 "nbformat_minor": 5
}
